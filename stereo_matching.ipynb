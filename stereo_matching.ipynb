{
 "cells": [
  {
   "cell_type": "code",
   "execution_count": 1,
   "metadata": {},
   "outputs": [],
   "source": [
    "import cv2 \n",
    "import numpy as np"
   ]
  },
  {
   "cell_type": "code",
   "execution_count": 2,
   "metadata": {},
   "outputs": [],
   "source": [
    "K = np.array([\n",
    "    [1835,    0,    832, 0],\n",
    "    [   0, 1835,    412, 0],\n",
    "    [   0,    0,      1, 0],\n",
    "    [   0,    0,      0, 1],\n",
    "])\n",
    "Tx = 0.5\n",
    "\n",
    "disp = cv2.imread('data/disparity.png', 0)\n",
    "depth = K[0,0] * Tx / (disp + 1e-6)"
   ]
  },
  {
   "cell_type": "code",
   "execution_count": 3,
   "metadata": {},
   "outputs": [],
   "source": [
    "rows, cols = depth.shape \n",
    "c, r = np.meshgrid(np.arange(cols), np.arange(rows))\n",
    "pts = np.stack([r, c, np.ones_like(c), np.ones_like(c)]).reshape(4, -1)\n",
    "D = depth.reshape(-1)\n",
    "\n",
    "pts_3d = D * np.dot(np.linalg.inv(K), pts)"
   ]
  },
  {
   "cell_type": "code",
   "execution_count": 9,
   "metadata": {},
   "outputs": [],
   "source": [
    "from utils import project_depth_to_points, export_pts_to_ply\n",
    "img = cv2.imread('data/left.jpg')\n",
    "img = cv2.cvtColor(img, cv2.COLOR_BGR2RGB).transpose((0, 1, 2)).reshape((-1, 3))\n",
    "# project_depth_to_points(depth, img, 'data/test.ply')\n",
    "\n",
    "export_pts_to_ply(pts_3d, img, \"data/test.ply\")"
   ]
  },
  {
   "cell_type": "code",
   "execution_count": null,
   "metadata": {},
   "outputs": [],
   "source": []
  }
 ],
 "metadata": {
  "interpreter": {
   "hash": "c406b5f1b6ee985f7460bb98d93d792b106af583e3a9138c5089b653c735943f"
  },
  "kernelspec": {
   "display_name": "Python 3.8.5 ('mono')",
   "language": "python",
   "name": "python3"
  },
  "language_info": {
   "codemirror_mode": {
    "name": "ipython",
    "version": 3
   },
   "file_extension": ".py",
   "mimetype": "text/x-python",
   "name": "python",
   "nbconvert_exporter": "python",
   "pygments_lexer": "ipython3",
   "version": "3.8.5"
  },
  "orig_nbformat": 4
 },
 "nbformat": 4,
 "nbformat_minor": 2
}
