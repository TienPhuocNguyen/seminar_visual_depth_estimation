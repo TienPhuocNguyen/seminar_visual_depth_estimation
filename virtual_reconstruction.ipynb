{
 "cells": [
  {
   "cell_type": "code",
   "execution_count": 1,
   "metadata": {},
   "outputs": [],
   "source": [
    "import torch\n",
    "import torch.nn as nn\n",
    "import torch.nn.functional as F\n",
    "from torchvision import transforms\n",
    "from torchvision.utils import save_image\n",
    "import numpy as np\n",
    "import cv2\n",
    "\n",
    "from utils import BackprojectDepth, Project3D"
   ]
  },
  {
   "cell_type": "code",
   "execution_count": 37,
   "metadata": {},
   "outputs": [],
   "source": [
    "H, W = 384, 640\n",
    "T_left = torch.from_numpy(np.array([[ 0.6712, -0.0146,  0.7412,  0.0952],\n",
    "                                    [ 0.0148,  0.9999,  0.0062,  0.0170],\n",
    "                                    [-0.7412,  0.0068,  0.6713, -0.1428],\n",
    "                                    [ 0.0000,  0.0000,  0.0000,  1.0000]], dtype=np.float32)).unsqueeze(0)\n",
    "T_right = torch.from_numpy(np.array([[ 0.5453,  0.0140, -0.8382, -0.4028],\n",
    "                                     [-0.0013,  0.9999,  0.0158, -0.0318],\n",
    "                                     [ 0.8383, -0.0076,  0.5452, -0.5721],\n",
    "                                     [ 0.0000,  0.0000,  0.0000,  1.0000]], dtype=np.float32)).unsqueeze(0)\n",
    "K_center = torch.from_numpy(np.array([[721.1671,   0.0000, 306.7841,   0.0000],\n",
    "                     [  0.0000, 688.9274, 194.5127,   0.0000],\n",
    "                     [  0.0000,   0.0000,   1.0000,   0.0000],\n",
    "                     [  0.0000,   0.0000,   0.0000,   1.0000]], dtype=np.float32)).unsqueeze(0)\n",
    "K_left = torch.from_numpy(np.array([[349.4441,   0.0000, 318.9036,   0.0000],\n",
    "                     [  0.0000, 333.4656, 185.8930,   0.0000],\n",
    "                     [  0.0000,   0.0000,   1.0000,   0.0000],\n",
    "                     [  0.0000,   0.0000,   0.0000,   1.0000]], dtype=np.float32)).unsqueeze(0)\n",
    "K_right = torch.from_numpy(np.array([[350.6630,   0.0000, 312.9119,   0.0000],\n",
    "                     [  0.0000, 334.5016, 193.0759,   0.0000],\n",
    "                     [  0.0000,   0.0000,   1.0000,   0.0000],\n",
    "                     [  0.0000,   0.0000,   0.0000,   1.0000]], dtype=np.float32)).unsqueeze(0)\n",
    "D = torch.from_numpy(np.load(\"data/depth.npy\"))\n",
    "img_left = cv2.cvtColor(cv2.imread(\"data/CAM_LEFT.jpg\"), cv2.COLOR_BGR2RGB)\n",
    "img_right = cv2.cvtColor(cv2.imread(\"data/CAM_RIGHT.jpg\"), cv2.COLOR_BGR2RGB)\n",
    "transform = transforms.ToTensor()\n",
    "img_left = transform(img_left).unsqueeze(0)\n",
    "img_right = transform(img_right).unsqueeze(0)"
   ]
  },
  {
   "cell_type": "code",
   "execution_count": 38,
   "metadata": {},
   "outputs": [],
   "source": [
    "def reconstruct_image(src, depth, T, K_src, K_tar):\n",
    "    # initialize projecting functions\n",
    "    backproject_depth = BackprojectDepth(1, H, W)\n",
    "    project_3d = Project3D(1, H, W)\n",
    "\n",
    "    # do reconstruction \n",
    "    cam_points = backproject_depth(depth, torch.inverse(K_tar))\n",
    "    pix_coords = project_3d(cam_points, K_src, T)\n",
    "    img_cam1_warpped =  F.grid_sample(src, pix_coords, \\\n",
    "        padding_mode=\"zeros\", align_corners=True)\n",
    "    \n",
    "    return img_cam1_warpped"
   ]
  },
  {
   "cell_type": "code",
   "execution_count": 45,
   "metadata": {},
   "outputs": [],
   "source": [
    "rect_from_left = reconstruct_image(img_left, D, \\\n",
    "                T_left, K_left, K_center)\n",
    "rect_from_right = reconstruct_image(img_right, D, \\\n",
    "                T_right, K_right, K_center)\n"
   ]
  },
  {
   "cell_type": "code",
   "execution_count": 46,
   "metadata": {},
   "outputs": [],
   "source": [
    "rect_both = rect_from_left + rect_from_right\n",
    "save_image(rect_both, \"data/OVL.png\")"
   ]
  },
  {
   "cell_type": "code",
   "execution_count": null,
   "metadata": {},
   "outputs": [],
   "source": []
  }
 ],
 "metadata": {
  "interpreter": {
   "hash": "c406b5f1b6ee985f7460bb98d93d792b106af583e3a9138c5089b653c735943f"
  },
  "kernelspec": {
   "display_name": "Python 3.8.5 ('mono')",
   "language": "python",
   "name": "python3"
  },
  "language_info": {
   "codemirror_mode": {
    "name": "ipython",
    "version": 3
   },
   "file_extension": ".py",
   "mimetype": "text/x-python",
   "name": "python",
   "nbconvert_exporter": "python",
   "pygments_lexer": "ipython3",
   "version": "3.8.5"
  },
  "orig_nbformat": 4
 },
 "nbformat": 4,
 "nbformat_minor": 2
}
